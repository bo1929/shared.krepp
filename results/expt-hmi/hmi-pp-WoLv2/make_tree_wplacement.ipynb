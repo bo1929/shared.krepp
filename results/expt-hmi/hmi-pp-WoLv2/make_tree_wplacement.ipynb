{
 "cells": [
  {
   "cell_type": "code",
   "execution_count": 2,
   "id": "fb75916e-e0f1-440b-96d2-c10eebde1c7c",
   "metadata": {},
   "outputs": [],
   "source": [
    "import numpy as np\n",
    "from collections import defaultdict\n",
    "import pandas as pd\n",
    "import treeswift as ts\n",
    "import json\n",
    "import re\n",
    "import random\n",
    "import string\n",
    "from collections import Counter"
   ]
  },
  {
   "cell_type": "code",
   "execution_count": 58,
   "id": "0a98c027-38f8-474c-85ba-747f89fefb87",
   "metadata": {},
   "outputs": [],
   "source": [
    "with open(\"placement_tree.nwk\", 'r') as f:\n",
    "    tree_string = f.read()\n",
    "tree_pp = ts.read_tree_newick(re.sub(r'{[0-9]+}', '', tree_string).strip())\n",
    "ic = 0\n",
    "node_set = list(tree_pp.traverse_postorder(leaves=True, internal=True))\n",
    "avg_blen = {nd: tree_pp.extract_subtree(nd).avg_branch_length(internal=False) for nd in node_set}\n",
    "for nd in node_set:\n",
    "    nd.set_label(f\"N{ic}\")\n",
    "    nd_p = nd.get_parent()\n",
    "    if nd_p is not None:\n",
    "        nd_n = ts.Node(f\"P{ic}\", nd.edge_length / 2)\n",
    "        nd.set_edge_length(nd.edge_length / 2)\n",
    "        nd_p.remove_child(nd)\n",
    "        nd_p.add_child(nd_n)\n",
    "        nd.set_parent(nd_n)\n",
    "        nd_t = ts.Node(f\"T{ic}\", tree_pp.extract_subtree(nd).avg_branch_length(internal=False))\n",
    "        # nd_t = ts.Node(f\"T{ic}\", 1e-7)\n",
    "        nd_t.set_parent(nd_n)\n",
    "        nd_n.add_child(nd_t)\n",
    "        nd_n.add_child(nd)\n",
    "    ic+=1"
   ]
  },
  {
   "cell_type": "code",
   "execution_count": 32,
   "id": "51582e6e-e229-4e26-8691-91c4d6aceed4",
   "metadata": {
    "collapsed": true,
    "jupyter": {
     "outputs_hidden": true
    },
    "scrolled": true
   },
   "outputs": [
    {
     "ename": "KeyboardInterrupt",
     "evalue": "",
     "output_type": "error",
     "traceback": [
      "\u001b[0;31m---------------------------------------------------------------------------\u001b[0m",
      "\u001b[0;31mKeyboardInterrupt\u001b[0m                         Traceback (most recent call last)",
      "Cell \u001b[0;32mIn[32], line 6\u001b[0m\n\u001b[1;32m      4\u001b[0m \u001b[38;5;28;01mfor\u001b[39;00m s \u001b[38;5;129;01min\u001b[39;00m samples:\n\u001b[1;32m      5\u001b[0m     \u001b[38;5;28;01mwith\u001b[39;00m \u001b[38;5;28mopen\u001b[39m(\u001b[38;5;124mf\u001b[39m\u001b[38;5;124m\"\u001b[39m\u001b[38;5;124mhmi_placements/\u001b[39m\u001b[38;5;132;01m{\u001b[39;00ms\u001b[38;5;132;01m}\u001b[39;00m\u001b[38;5;124m.pplist\u001b[39m\u001b[38;5;124m\"\u001b[39m, \u001b[38;5;124m'\u001b[39m\u001b[38;5;124mr\u001b[39m\u001b[38;5;124m'\u001b[39m) \u001b[38;5;28;01mas\u001b[39;00m f:\n\u001b[0;32m----> 6\u001b[0m         pp_counts \u001b[38;5;241m=\u001b[39m \u001b[43mCounter\u001b[49m\u001b[43m(\u001b[49m\u001b[38;5;28;43mmap\u001b[39;49m\u001b[43m(\u001b[49m\u001b[38;5;28;43;01mlambda\u001b[39;49;00m\u001b[43m \u001b[49m\u001b[43mx\u001b[49m\u001b[43m:\u001b[49m\u001b[43m \u001b[49m\u001b[43mx\u001b[49m\u001b[38;5;241;43m.\u001b[39;49m\u001b[43mstrip\u001b[49m\u001b[43m(\u001b[49m\u001b[43m)\u001b[49m\u001b[43m,\u001b[49m\u001b[43m \u001b[49m\u001b[43mf\u001b[49m\u001b[38;5;241;43m.\u001b[39;49m\u001b[43mreadlines\u001b[49m\u001b[43m(\u001b[49m\u001b[43m)\u001b[49m\u001b[43m)\u001b[49m\u001b[43m)\u001b[49m\n\u001b[1;32m      7\u001b[0m     \u001b[38;5;66;03m# sample_profiles[s] = dict(map(lambda x: (f\"T{x[0]}\", x[1]/sum(pp_counts.values())), pp_counts.items()))\u001b[39;00m\n\u001b[1;32m      8\u001b[0m     sample_profiles[s] \u001b[38;5;241m=\u001b[39m \u001b[38;5;28mdict\u001b[39m(\u001b[38;5;28mmap\u001b[39m(\u001b[38;5;28;01mlambda\u001b[39;00m x: (\u001b[38;5;124mf\u001b[39m\u001b[38;5;124m\"\u001b[39m\u001b[38;5;124mT\u001b[39m\u001b[38;5;132;01m{\u001b[39;00mx[\u001b[38;5;241m0\u001b[39m]\u001b[38;5;132;01m}\u001b[39;00m\u001b[38;5;124m\"\u001b[39m, x[\u001b[38;5;241m1\u001b[39m]), pp_counts\u001b[38;5;241m.\u001b[39mitems()))\n",
      "File \u001b[0;32m~/.pyenv/versions/3.9.19/lib/python3.9/collections/__init__.py:593\u001b[0m, in \u001b[0;36mCounter.__init__\u001b[0;34m(self, iterable, **kwds)\u001b[0m\n\u001b[1;32m    582\u001b[0m \u001b[38;5;250m\u001b[39m\u001b[38;5;124;03m'''Create a new, empty Counter object.  And if given, count elements\u001b[39;00m\n\u001b[1;32m    583\u001b[0m \u001b[38;5;124;03mfrom an input iterable.  Or, initialize the count from another mapping\u001b[39;00m\n\u001b[1;32m    584\u001b[0m \u001b[38;5;124;03mof elements to their counts.\u001b[39;00m\n\u001b[0;32m   (...)\u001b[0m\n\u001b[1;32m    590\u001b[0m \n\u001b[1;32m    591\u001b[0m \u001b[38;5;124;03m'''\u001b[39;00m\n\u001b[1;32m    592\u001b[0m \u001b[38;5;28msuper\u001b[39m()\u001b[38;5;241m.\u001b[39m\u001b[38;5;21m__init__\u001b[39m()\n\u001b[0;32m--> 593\u001b[0m \u001b[38;5;28;43mself\u001b[39;49m\u001b[38;5;241;43m.\u001b[39;49m\u001b[43mupdate\u001b[49m\u001b[43m(\u001b[49m\u001b[43miterable\u001b[49m\u001b[43m,\u001b[49m\u001b[43m \u001b[49m\u001b[38;5;241;43m*\u001b[39;49m\u001b[38;5;241;43m*\u001b[39;49m\u001b[43mkwds\u001b[49m\u001b[43m)\u001b[49m\n",
      "File \u001b[0;32m~/.pyenv/versions/3.9.19/lib/python3.9/collections/__init__.py:679\u001b[0m, in \u001b[0;36mCounter.update\u001b[0;34m(self, iterable, **kwds)\u001b[0m\n\u001b[1;32m    677\u001b[0m             \u001b[38;5;28msuper\u001b[39m()\u001b[38;5;241m.\u001b[39mupdate(iterable)\n\u001b[1;32m    678\u001b[0m     \u001b[38;5;28;01melse\u001b[39;00m:\n\u001b[0;32m--> 679\u001b[0m         \u001b[43m_count_elements\u001b[49m\u001b[43m(\u001b[49m\u001b[38;5;28;43mself\u001b[39;49m\u001b[43m,\u001b[49m\u001b[43m \u001b[49m\u001b[43miterable\u001b[49m\u001b[43m)\u001b[49m\n\u001b[1;32m    680\u001b[0m \u001b[38;5;28;01mif\u001b[39;00m kwds:\n\u001b[1;32m    681\u001b[0m     \u001b[38;5;28mself\u001b[39m\u001b[38;5;241m.\u001b[39mupdate(kwds)\n",
      "Cell \u001b[0;32mIn[32], line 6\u001b[0m, in \u001b[0;36m<lambda>\u001b[0;34m(x)\u001b[0m\n\u001b[1;32m      4\u001b[0m \u001b[38;5;28;01mfor\u001b[39;00m s \u001b[38;5;129;01min\u001b[39;00m samples:\n\u001b[1;32m      5\u001b[0m     \u001b[38;5;28;01mwith\u001b[39;00m \u001b[38;5;28mopen\u001b[39m(\u001b[38;5;124mf\u001b[39m\u001b[38;5;124m\"\u001b[39m\u001b[38;5;124mhmi_placements/\u001b[39m\u001b[38;5;132;01m{\u001b[39;00ms\u001b[38;5;132;01m}\u001b[39;00m\u001b[38;5;124m.pplist\u001b[39m\u001b[38;5;124m\"\u001b[39m, \u001b[38;5;124m'\u001b[39m\u001b[38;5;124mr\u001b[39m\u001b[38;5;124m'\u001b[39m) \u001b[38;5;28;01mas\u001b[39;00m f:\n\u001b[0;32m----> 6\u001b[0m         pp_counts \u001b[38;5;241m=\u001b[39m Counter(\u001b[38;5;28mmap\u001b[39m(\u001b[38;5;28;01mlambda\u001b[39;00m x: x\u001b[38;5;241m.\u001b[39mstrip(), f\u001b[38;5;241m.\u001b[39mreadlines()))\n\u001b[1;32m      7\u001b[0m     \u001b[38;5;66;03m# sample_profiles[s] = dict(map(lambda x: (f\"T{x[0]}\", x[1]/sum(pp_counts.values())), pp_counts.items()))\u001b[39;00m\n\u001b[1;32m      8\u001b[0m     sample_profiles[s] \u001b[38;5;241m=\u001b[39m \u001b[38;5;28mdict\u001b[39m(\u001b[38;5;28mmap\u001b[39m(\u001b[38;5;28;01mlambda\u001b[39;00m x: (\u001b[38;5;124mf\u001b[39m\u001b[38;5;124m\"\u001b[39m\u001b[38;5;124mT\u001b[39m\u001b[38;5;132;01m{\u001b[39;00mx[\u001b[38;5;241m0\u001b[39m]\u001b[38;5;132;01m}\u001b[39;00m\u001b[38;5;124m\"\u001b[39m, x[\u001b[38;5;241m1\u001b[39m]), pp_counts\u001b[38;5;241m.\u001b[39mitems()))\n",
      "\u001b[0;31mKeyboardInterrupt\u001b[0m: "
     ]
    }
   ],
   "source": [
    "with open(\"all_samples.txt\", 'r') as f:\n",
    "    samples = Counter(map(lambda x: x.strip(), f.readlines()))\n",
    "sample_profiles = defaultdict(lambda: defaultdict(float))\n",
    "for s in samples:\n",
    "    with open(f\"hmi_placements/{s}.pplist\", 'r') as f:\n",
    "        pp_counts = Counter(map(lambda x: x.strip(), f.readlines()))\n",
    "    # sample_profiles[s] = dict(map(lambda x: (f\"T{x[0]}\", x[1]/sum(pp_counts.values())), pp_counts.items()))\n",
    "    sample_profiles[s] = dict(map(lambda x: (f\"T{x[0]}\", x[1]), pp_counts.items()))"
   ]
  },
  {
   "cell_type": "code",
   "execution_count": 18,
   "id": "7dc35b78-6877-4883-adb3-05524ab8aa76",
   "metadata": {},
   "outputs": [],
   "source": [
    "df = pd.DataFrame(sample_profiles)\n",
    "df = df.fillna(0)"
   ]
  },
  {
   "cell_type": "code",
   "execution_count": 21,
   "id": "8e87b3e5-222d-4b53-9bf6-2f883922c980",
   "metadata": {},
   "outputs": [],
   "source": [
    "df.to_csv(\"./placement_table.tsv\", sep=\"\\t\", index_label=\"#FeatureID\")"
   ]
  },
  {
   "cell_type": "code",
   "execution_count": 59,
   "id": "fea87ab9-6bc6-4d9d-a7e0-b454918adec1",
   "metadata": {},
   "outputs": [],
   "source": [
    "tree_pp.write_tree_newick(\"./placement_tree_extended.nwk\")"
   ]
  }
 ],
 "metadata": {
  "kernelspec": {
   "display_name": "Python 3 (ipykernel)",
   "language": "python",
   "name": "python3"
  },
  "language_info": {
   "codemirror_mode": {
    "name": "ipython",
    "version": 3
   },
   "file_extension": ".py",
   "mimetype": "text/x-python",
   "name": "python",
   "nbconvert_exporter": "python",
   "pygments_lexer": "ipython3",
   "version": "3.9.19"
  }
 },
 "nbformat": 4,
 "nbformat_minor": 5
}
