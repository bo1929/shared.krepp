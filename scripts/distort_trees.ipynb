{
 "cells": [
  {
   "cell_type": "code",
   "execution_count": 17,
   "id": "078a5cf0-ad7c-4ab1-9fe8-e15de0983f32",
   "metadata": {},
   "outputs": [],
   "source": [
    "import treeswift as ts\n",
    "from random import shuffle"
   ]
  },
  {
   "cell_type": "code",
   "execution_count": 68,
   "id": "c31c50d8-5a41-4b5c-9669-2a141d37a68b",
   "metadata": {},
   "outputs": [],
   "source": [
    "def ladderize_tree(inputpath, outputpath):\n",
    "    tree = ts.read_tree_newick(inputpath)\n",
    "    leaves = list(tree.traverse_postorder(leaves=True, internal=False))\n",
    "    list(map(lambda nd: nd.set_edge_length(1), leaves))\n",
    "    shuffle(leaves)\n",
    "    nd_p = ts.Node(f\"N0\", 1)\n",
    "    nd_p.add_child(leaves[0])\n",
    "    leaves[0].set_parent(nd_p)\n",
    "    for ix, nd in enumerate(leaves[1: ]):\n",
    "        nd_c = ts.Node(f\"N{len(leaves)-ix-1}\", 1)\n",
    "        nd_p.add_child(nd)\n",
    "        nd_c.add_child(nd_p)\n",
    "        nd.set_parent(nd_p)\n",
    "        nd_p.set_parent(nd_c)\n",
    "        nd_p = nd_c\n",
    "    with open(outputpath, 'w') as f:\n",
    "        f.write(nd_p.newick()+\";\")"
   ]
  },
  {
   "cell_type": "code",
   "execution_count": 69,
   "id": "72da19d6-4604-4d89-aa50-c62668d594ee",
   "metadata": {},
   "outputs": [],
   "source": [
    "ladderize_tree(\"../misc_data/backbone-WoLv2.nwk\", \"../misc_data/ladderized-WoLv2.nwk\")\n",
    "ladderize_tree(\"../misc_data/backbone-WoLv1.nwk\", \"../misc_data/ladderized-WoLv1.nwk\")"
   ]
  }
 ],
 "metadata": {
  "kernelspec": {
   "display_name": "Python 3 (ipykernel)",
   "language": "python",
   "name": "python3"
  },
  "language_info": {
   "codemirror_mode": {
    "name": "ipython",
    "version": 3
   },
   "file_extension": ".py",
   "mimetype": "text/x-python",
   "name": "python",
   "nbconvert_exporter": "python",
   "pygments_lexer": "ipython3",
   "version": "3.9.19"
  }
 },
 "nbformat": 4,
 "nbformat_minor": 5
}
